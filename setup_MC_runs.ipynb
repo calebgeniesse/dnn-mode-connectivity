{
 "cells": [
  {
   "cell_type": "markdown",
   "id": "2b67a3d4",
   "metadata": {},
   "source": [
    "# Compute list of unique model pairs"
   ]
  },
  {
   "cell_type": "code",
   "execution_count": 3,
   "id": "dbda94b4-b158-4091-93c7-4aef479456d6",
   "metadata": {
    "tags": []
   },
   "outputs": [],
   "source": [
    "import os\n",
    "import pandas as pd\n",
    "import numpy as np"
   ]
  },
  {
   "cell_type": "markdown",
   "id": "d6b57299",
   "metadata": {},
   "source": [
    "## Load model names (each line should include the name of a checkpoint)"
   ]
  },
  {
   "cell_type": "code",
   "execution_count": 4,
   "id": "de563c0e-f6c4-427d-9bea-8b881dba9c18",
   "metadata": {
    "tags": []
   },
   "outputs": [
    {
     "data": {
      "text/html": [
       "<div>\n",
       "<style scoped>\n",
       "    .dataframe tbody tr th:only-of-type {\n",
       "        vertical-align: middle;\n",
       "    }\n",
       "\n",
       "    .dataframe tbody tr th {\n",
       "        vertical-align: top;\n",
       "    }\n",
       "\n",
       "    .dataframe thead th {\n",
       "        text-align: right;\n",
       "    }\n",
       "</style>\n",
       "<table border=\"1\" class=\"dataframe\">\n",
       "  <thead>\n",
       "    <tr style=\"text-align: right;\">\n",
       "      <th></th>\n",
       "      <th>beta</th>\n",
       "      <th>lr</th>\n",
       "      <th>seed</th>\n",
       "      <th>error_u_relative</th>\n",
       "      <th>error_u_abs</th>\n",
       "      <th>error_u_linf</th>\n",
       "      <th>checkpoint_file</th>\n",
       "    </tr>\n",
       "  </thead>\n",
       "  <tbody>\n",
       "    <tr>\n",
       "      <th>0</th>\n",
       "      <td>1.0</td>\n",
       "      <td>1.0</td>\n",
       "      <td>1</td>\n",
       "      <td>0.008966</td>\n",
       "      <td>0.004980</td>\n",
       "      <td>0.015296</td>\n",
       "      <td>PINN_convection_beta_1.0_lr_1.0_seed_001.pt</td>\n",
       "    </tr>\n",
       "    <tr>\n",
       "      <th>1</th>\n",
       "      <td>1.0</td>\n",
       "      <td>1.0</td>\n",
       "      <td>2</td>\n",
       "      <td>0.005973</td>\n",
       "      <td>0.003480</td>\n",
       "      <td>0.015633</td>\n",
       "      <td>PINN_convection_beta_1.0_lr_1.0_seed_002.pt</td>\n",
       "    </tr>\n",
       "    <tr>\n",
       "      <th>2</th>\n",
       "      <td>1.0</td>\n",
       "      <td>1.0</td>\n",
       "      <td>3</td>\n",
       "      <td>0.015139</td>\n",
       "      <td>0.008653</td>\n",
       "      <td>0.030874</td>\n",
       "      <td>PINN_convection_beta_1.0_lr_1.0_seed_003.pt</td>\n",
       "    </tr>\n",
       "    <tr>\n",
       "      <th>3</th>\n",
       "      <td>1.0</td>\n",
       "      <td>1.0</td>\n",
       "      <td>4</td>\n",
       "      <td>0.010917</td>\n",
       "      <td>0.006271</td>\n",
       "      <td>0.021492</td>\n",
       "      <td>PINN_convection_beta_1.0_lr_1.0_seed_004.pt</td>\n",
       "    </tr>\n",
       "    <tr>\n",
       "      <th>4</th>\n",
       "      <td>1.0</td>\n",
       "      <td>1.0</td>\n",
       "      <td>5</td>\n",
       "      <td>0.007530</td>\n",
       "      <td>0.004480</td>\n",
       "      <td>0.012255</td>\n",
       "      <td>PINN_convection_beta_1.0_lr_1.0_seed_005.pt</td>\n",
       "    </tr>\n",
       "    <tr>\n",
       "      <th>...</th>\n",
       "      <td>...</td>\n",
       "      <td>...</td>\n",
       "      <td>...</td>\n",
       "      <td>...</td>\n",
       "      <td>...</td>\n",
       "      <td>...</td>\n",
       "      <td>...</td>\n",
       "    </tr>\n",
       "    <tr>\n",
       "      <th>95</th>\n",
       "      <td>1.0</td>\n",
       "      <td>1.0</td>\n",
       "      <td>96</td>\n",
       "      <td>0.012015</td>\n",
       "      <td>0.006241</td>\n",
       "      <td>0.025744</td>\n",
       "      <td>PINN_convection_beta_1.0_lr_1.0_seed_096.pt</td>\n",
       "    </tr>\n",
       "    <tr>\n",
       "      <th>96</th>\n",
       "      <td>1.0</td>\n",
       "      <td>1.0</td>\n",
       "      <td>97</td>\n",
       "      <td>0.012115</td>\n",
       "      <td>0.007141</td>\n",
       "      <td>0.027779</td>\n",
       "      <td>PINN_convection_beta_1.0_lr_1.0_seed_097.pt</td>\n",
       "    </tr>\n",
       "    <tr>\n",
       "      <th>97</th>\n",
       "      <td>1.0</td>\n",
       "      <td>1.0</td>\n",
       "      <td>98</td>\n",
       "      <td>0.006035</td>\n",
       "      <td>0.003519</td>\n",
       "      <td>0.010861</td>\n",
       "      <td>PINN_convection_beta_1.0_lr_1.0_seed_098.pt</td>\n",
       "    </tr>\n",
       "    <tr>\n",
       "      <th>98</th>\n",
       "      <td>1.0</td>\n",
       "      <td>1.0</td>\n",
       "      <td>99</td>\n",
       "      <td>0.008412</td>\n",
       "      <td>0.004752</td>\n",
       "      <td>0.016359</td>\n",
       "      <td>PINN_convection_beta_1.0_lr_1.0_seed_099.pt</td>\n",
       "    </tr>\n",
       "    <tr>\n",
       "      <th>99</th>\n",
       "      <td>1.0</td>\n",
       "      <td>1.0</td>\n",
       "      <td>100</td>\n",
       "      <td>0.010304</td>\n",
       "      <td>0.005615</td>\n",
       "      <td>0.030130</td>\n",
       "      <td>PINN_convection_beta_1.0_lr_1.0_seed_100.pt</td>\n",
       "    </tr>\n",
       "  </tbody>\n",
       "</table>\n",
       "<p>100 rows × 7 columns</p>\n",
       "</div>"
      ],
      "text/plain": [
       "    beta   lr  seed  error_u_relative  error_u_abs  error_u_linf  \\\n",
       "0    1.0  1.0     1          0.008966     0.004980      0.015296   \n",
       "1    1.0  1.0     2          0.005973     0.003480      0.015633   \n",
       "2    1.0  1.0     3          0.015139     0.008653      0.030874   \n",
       "3    1.0  1.0     4          0.010917     0.006271      0.021492   \n",
       "4    1.0  1.0     5          0.007530     0.004480      0.012255   \n",
       "..   ...  ...   ...               ...          ...           ...   \n",
       "95   1.0  1.0    96          0.012015     0.006241      0.025744   \n",
       "96   1.0  1.0    97          0.012115     0.007141      0.027779   \n",
       "97   1.0  1.0    98          0.006035     0.003519      0.010861   \n",
       "98   1.0  1.0    99          0.008412     0.004752      0.016359   \n",
       "99   1.0  1.0   100          0.010304     0.005615      0.030130   \n",
       "\n",
       "                                checkpoint_file  \n",
       "0   PINN_convection_beta_1.0_lr_1.0_seed_001.pt  \n",
       "1   PINN_convection_beta_1.0_lr_1.0_seed_002.pt  \n",
       "2   PINN_convection_beta_1.0_lr_1.0_seed_003.pt  \n",
       "3   PINN_convection_beta_1.0_lr_1.0_seed_004.pt  \n",
       "4   PINN_convection_beta_1.0_lr_1.0_seed_005.pt  \n",
       "..                                          ...  \n",
       "95  PINN_convection_beta_1.0_lr_1.0_seed_096.pt  \n",
       "96  PINN_convection_beta_1.0_lr_1.0_seed_097.pt  \n",
       "97  PINN_convection_beta_1.0_lr_1.0_seed_098.pt  \n",
       "98  PINN_convection_beta_1.0_lr_1.0_seed_099.pt  \n",
       "99  PINN_convection_beta_1.0_lr_1.0_seed_100.pt  \n",
       "\n",
       "[100 rows x 7 columns]"
      ]
     },
     "execution_count": 4,
     "metadata": {},
     "output_type": "execute_result"
    }
   ],
   "source": [
    "### Example results files\n",
    "# results_file = \"../characterizing-pinns-failure-modes/pbc_examples/PINN_convection_beta_1.0_lr_1.0_n_seeds_100.csv\"\n",
    "# results_file = \"../characterizing-pinns-failure-modes/pbc_examples/PINN_convection_beta_50.0_lr_1.0_n_seeds_100.csv\"\n",
    "\n",
    "# configure path to results file\n",
    "results_file = \"../characterizing-pinns-failure-modes/pbc_examples/PINN_convection_beta_1.0_lr_1.0_n_seeds_100.csv\"\n",
    "\n",
    "# load the results file as a data frame\n",
    "df_results = pd.read_csv(results_file)\n",
    "df_results"
   ]
  },
  {
   "cell_type": "markdown",
   "id": "fc234bcf",
   "metadata": {},
   "source": [
    "## Compute all unique pairs"
   ]
  },
  {
   "cell_type": "code",
   "execution_count": 5,
   "id": "b97ad5bf-0151-4588-ac2e-34886b2c6bc0",
   "metadata": {
    "tags": []
   },
   "outputs": [
    {
     "name": "stdout",
     "output_type": "stream",
     "text": [
      "4950\n"
     ]
    }
   ],
   "source": [
    "from itertools import product\n",
    "pairs = list(product(df_results.checkpoint_file.values, df_results.checkpoint_file.values))\n",
    "pairs = [_ for _ in pairs if _[0] != _[1]]\n",
    "unique_pairs = sorted({tuple(sorted(_)) for _ in pairs})\n",
    "unique_pairs_lists = list(zip(*unique_pairs))\n",
    "print(len(unique_pairs))"
   ]
  },
  {
   "cell_type": "code",
   "execution_count": 6,
   "id": "8828e4eb-fb52-4666-b614-b142153da4af",
   "metadata": {
    "tags": []
   },
   "outputs": [
    {
     "data": {
      "text/plain": [
       "[('PINN_convection_beta_1.0_lr_1.0_seed_097.pt',\n",
       "  'PINN_convection_beta_1.0_lr_1.0_seed_099.pt'),\n",
       " ('PINN_convection_beta_1.0_lr_1.0_seed_097.pt',\n",
       "  'PINN_convection_beta_1.0_lr_1.0_seed_100.pt'),\n",
       " ('PINN_convection_beta_1.0_lr_1.0_seed_098.pt',\n",
       "  'PINN_convection_beta_1.0_lr_1.0_seed_099.pt'),\n",
       " ('PINN_convection_beta_1.0_lr_1.0_seed_098.pt',\n",
       "  'PINN_convection_beta_1.0_lr_1.0_seed_100.pt'),\n",
       " ('PINN_convection_beta_1.0_lr_1.0_seed_099.pt',\n",
       "  'PINN_convection_beta_1.0_lr_1.0_seed_100.pt')]"
      ]
     },
     "execution_count": 6,
     "metadata": {},
     "output_type": "execute_result"
    }
   ],
   "source": [
    "unique_pairs[-5:]"
   ]
  },
  {
   "cell_type": "code",
   "execution_count": 7,
   "id": "a9a8231e-87b0-42b9-8fe2-0522f648bea3",
   "metadata": {
    "tags": []
   },
   "outputs": [
    {
     "data": {
      "text/plain": [
       "('PINN_convection_beta_1.0_lr_1.0_seed_002.pt',\n",
       " 'PINN_convection_beta_1.0_lr_1.0_seed_003.pt',\n",
       " 'PINN_convection_beta_1.0_lr_1.0_seed_004.pt',\n",
       " 'PINN_convection_beta_1.0_lr_1.0_seed_005.pt',\n",
       " 'PINN_convection_beta_1.0_lr_1.0_seed_006.pt')"
      ]
     },
     "execution_count": 7,
     "metadata": {},
     "output_type": "execute_result"
    }
   ],
   "source": [
    "list(zip(*unique_pairs))[1][:5]"
   ]
  },
  {
   "cell_type": "markdown",
   "id": "f2ef3f2b",
   "metadata": {},
   "source": [
    "## Save unique pairs to disk"
   ]
  },
  {
   "cell_type": "code",
   "execution_count": 8,
   "id": "8d41feb6-4135-4014-98bd-4f24055ea89b",
   "metadata": {
    "tags": []
   },
   "outputs": [
    {
     "name": "stdout",
     "output_type": "stream",
     "text": [
      "[+] PINN_convection_beta_1.0_lr_1.0_n_seeds_100_pairs.csv\n"
     ]
    }
   ],
   "source": [
    "df_pairs = pd.DataFrame().assign(\n",
    "       init_start=unique_pairs_lists[0],\n",
    "       init_end=unique_pairs_lists[1],\n",
    ")\n",
    "save_as_csv = os.path.basename(results_file).replace(\".csv\", \"_pairs.csv\")\n",
    "df_pairs.to_csv(save_as_csv, index=None)\n",
    "print(f\"[+] {save_as_csv}\")"
   ]
  },
  {
   "cell_type": "code",
   "execution_count": 9,
   "id": "de2a75f9",
   "metadata": {},
   "outputs": [
    {
     "data": {
      "text/html": [
       "<div>\n",
       "<style scoped>\n",
       "    .dataframe tbody tr th:only-of-type {\n",
       "        vertical-align: middle;\n",
       "    }\n",
       "\n",
       "    .dataframe tbody tr th {\n",
       "        vertical-align: top;\n",
       "    }\n",
       "\n",
       "    .dataframe thead th {\n",
       "        text-align: right;\n",
       "    }\n",
       "</style>\n",
       "<table border=\"1\" class=\"dataframe\">\n",
       "  <thead>\n",
       "    <tr style=\"text-align: right;\">\n",
       "      <th></th>\n",
       "      <th>init_start</th>\n",
       "      <th>init_end</th>\n",
       "    </tr>\n",
       "  </thead>\n",
       "  <tbody>\n",
       "    <tr>\n",
       "      <th>0</th>\n",
       "      <td>PINN_convection_beta_1.0_lr_1.0_seed_001.pt</td>\n",
       "      <td>PINN_convection_beta_1.0_lr_1.0_seed_002.pt</td>\n",
       "    </tr>\n",
       "    <tr>\n",
       "      <th>1</th>\n",
       "      <td>PINN_convection_beta_1.0_lr_1.0_seed_001.pt</td>\n",
       "      <td>PINN_convection_beta_1.0_lr_1.0_seed_003.pt</td>\n",
       "    </tr>\n",
       "    <tr>\n",
       "      <th>2</th>\n",
       "      <td>PINN_convection_beta_1.0_lr_1.0_seed_001.pt</td>\n",
       "      <td>PINN_convection_beta_1.0_lr_1.0_seed_004.pt</td>\n",
       "    </tr>\n",
       "    <tr>\n",
       "      <th>3</th>\n",
       "      <td>PINN_convection_beta_1.0_lr_1.0_seed_001.pt</td>\n",
       "      <td>PINN_convection_beta_1.0_lr_1.0_seed_005.pt</td>\n",
       "    </tr>\n",
       "    <tr>\n",
       "      <th>4</th>\n",
       "      <td>PINN_convection_beta_1.0_lr_1.0_seed_001.pt</td>\n",
       "      <td>PINN_convection_beta_1.0_lr_1.0_seed_006.pt</td>\n",
       "    </tr>\n",
       "    <tr>\n",
       "      <th>...</th>\n",
       "      <td>...</td>\n",
       "      <td>...</td>\n",
       "    </tr>\n",
       "    <tr>\n",
       "      <th>4945</th>\n",
       "      <td>PINN_convection_beta_1.0_lr_1.0_seed_097.pt</td>\n",
       "      <td>PINN_convection_beta_1.0_lr_1.0_seed_099.pt</td>\n",
       "    </tr>\n",
       "    <tr>\n",
       "      <th>4946</th>\n",
       "      <td>PINN_convection_beta_1.0_lr_1.0_seed_097.pt</td>\n",
       "      <td>PINN_convection_beta_1.0_lr_1.0_seed_100.pt</td>\n",
       "    </tr>\n",
       "    <tr>\n",
       "      <th>4947</th>\n",
       "      <td>PINN_convection_beta_1.0_lr_1.0_seed_098.pt</td>\n",
       "      <td>PINN_convection_beta_1.0_lr_1.0_seed_099.pt</td>\n",
       "    </tr>\n",
       "    <tr>\n",
       "      <th>4948</th>\n",
       "      <td>PINN_convection_beta_1.0_lr_1.0_seed_098.pt</td>\n",
       "      <td>PINN_convection_beta_1.0_lr_1.0_seed_100.pt</td>\n",
       "    </tr>\n",
       "    <tr>\n",
       "      <th>4949</th>\n",
       "      <td>PINN_convection_beta_1.0_lr_1.0_seed_099.pt</td>\n",
       "      <td>PINN_convection_beta_1.0_lr_1.0_seed_100.pt</td>\n",
       "    </tr>\n",
       "  </tbody>\n",
       "</table>\n",
       "<p>4950 rows × 2 columns</p>\n",
       "</div>"
      ],
      "text/plain": [
       "                                       init_start  \\\n",
       "0     PINN_convection_beta_1.0_lr_1.0_seed_001.pt   \n",
       "1     PINN_convection_beta_1.0_lr_1.0_seed_001.pt   \n",
       "2     PINN_convection_beta_1.0_lr_1.0_seed_001.pt   \n",
       "3     PINN_convection_beta_1.0_lr_1.0_seed_001.pt   \n",
       "4     PINN_convection_beta_1.0_lr_1.0_seed_001.pt   \n",
       "...                                           ...   \n",
       "4945  PINN_convection_beta_1.0_lr_1.0_seed_097.pt   \n",
       "4946  PINN_convection_beta_1.0_lr_1.0_seed_097.pt   \n",
       "4947  PINN_convection_beta_1.0_lr_1.0_seed_098.pt   \n",
       "4948  PINN_convection_beta_1.0_lr_1.0_seed_098.pt   \n",
       "4949  PINN_convection_beta_1.0_lr_1.0_seed_099.pt   \n",
       "\n",
       "                                         init_end  \n",
       "0     PINN_convection_beta_1.0_lr_1.0_seed_002.pt  \n",
       "1     PINN_convection_beta_1.0_lr_1.0_seed_003.pt  \n",
       "2     PINN_convection_beta_1.0_lr_1.0_seed_004.pt  \n",
       "3     PINN_convection_beta_1.0_lr_1.0_seed_005.pt  \n",
       "4     PINN_convection_beta_1.0_lr_1.0_seed_006.pt  \n",
       "...                                           ...  \n",
       "4945  PINN_convection_beta_1.0_lr_1.0_seed_099.pt  \n",
       "4946  PINN_convection_beta_1.0_lr_1.0_seed_100.pt  \n",
       "4947  PINN_convection_beta_1.0_lr_1.0_seed_099.pt  \n",
       "4948  PINN_convection_beta_1.0_lr_1.0_seed_100.pt  \n",
       "4949  PINN_convection_beta_1.0_lr_1.0_seed_100.pt  \n",
       "\n",
       "[4950 rows x 2 columns]"
      ]
     },
     "execution_count": 9,
     "metadata": {},
     "output_type": "execute_result"
    }
   ],
   "source": [
    "df_pairs"
   ]
  }
 ],
 "metadata": {
  "kernelspec": {
   "display_name": "Python 3 (ipykernel)",
   "language": "python",
   "name": "python3"
  },
  "language_info": {
   "codemirror_mode": {
    "name": "ipython",
    "version": 3
   },
   "file_extension": ".py",
   "mimetype": "text/x-python",
   "name": "python",
   "nbconvert_exporter": "python",
   "pygments_lexer": "ipython3",
   "version": "3.10.12"
  }
 },
 "nbformat": 4,
 "nbformat_minor": 5
}
